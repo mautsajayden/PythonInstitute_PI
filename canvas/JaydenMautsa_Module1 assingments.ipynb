{
 "cells": [
  {
   "cell_type": "markdown",
   "id": "ec23d92d-1773-4abd-bb6b-88796f78afa9",
   "metadata": {},
   "source": [
    "# Cornvert Binary Number to decimal number "
   ]
  },
  {
   "cell_type": "code",
   "execution_count": 6,
   "id": "f6764237-2fbf-4800-8c5f-8cfc6fe15547",
   "metadata": {},
   "outputs": [
    {
     "name": "stdin",
     "output_type": "stream",
     "text": [
      "Enter 8 binary digits:  11111111\n"
     ]
    },
    {
     "name": "stdout",
     "output_type": "stream",
     "text": [
      "11111111 has a decimal value of 255\n"
     ]
    }
   ],
   "source": [
    "#Get a Binary number from the user \n",
    "binary_number = input (\"Enter 8 binary digits: \")\n",
    "\n",
    "#Convert the binary to a decimal number\n",
    "decimal_value = int(binary_number, 2)\n",
    "\n",
    "#Display the decimal value to the user\n",
    "print(binary_number, \"has a decimal value of\", decimal_value)"
   ]
  },
  {
   "cell_type": "markdown",
   "id": "a53a9f02-9dea-4f95-a7f1-44d29c83856d",
   "metadata": {},
   "source": [
    "# A Program Based on the IPO"
   ]
  },
  {
   "cell_type": "code",
   "execution_count": 11,
   "id": "4efd9ab7-cee5-4940-aa5a-d99f7403c203",
   "metadata": {},
   "outputs": [
    {
     "name": "stdin",
     "output_type": "stream",
     "text": [
      "Enter the number of inches:  23\n"
     ]
    },
    {
     "name": "stdout",
     "output_type": "stream",
     "text": [
      "23 inches is equal to 58.42 centimeters.\n"
     ]
    }
   ],
   "source": [
    "#The input \n",
    "inches = int(input(\"Enter the number of inches: \"))\n",
    "\n",
    "# The process - a formula\n",
    "centimeters = inches * 2.54\n",
    "\n",
    "# The output\n",
    "print(inches, \"inches is equal to\", centimeters, \"centimeters.\")"
   ]
  },
  {
   "cell_type": "code",
   "execution_count": null,
   "id": "48343d0e-bc77-4a73-a0df-2d00f63ace4f",
   "metadata": {},
   "outputs": [],
   "source": []
  }
 ],
 "metadata": {
  "kernelspec": {
   "display_name": "Python 3 (ipykernel)",
   "language": "python",
   "name": "python3"
  },
  "language_info": {
   "codemirror_mode": {
    "name": "ipython",
    "version": 3
   },
   "file_extension": ".py",
   "mimetype": "text/x-python",
   "name": "python",
   "nbconvert_exporter": "python",
   "pygments_lexer": "ipython3",
   "version": "3.11.7"
  }
 },
 "nbformat": 4,
 "nbformat_minor": 5
}
