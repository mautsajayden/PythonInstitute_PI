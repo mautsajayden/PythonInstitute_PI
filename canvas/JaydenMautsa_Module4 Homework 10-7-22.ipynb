{
 "cells": [
  {
   "cell_type": "markdown",
   "metadata": {},
   "source": [
    "### Module 4 Exercise"
   ]
  },
  {
   "cell_type": "markdown",
   "metadata": {},
   "source": [
    "1. How many occurences of \"row\" is in \"Row, row, row your boat. Gently down the stream. Merrily, merrily, merrily, merrily. Life is but a dream. Row, row, row your boat. Gently up the creek.\" "
   ]
  },
  {
   "cell_type": "code",
   "execution_count": 19,
   "metadata": {},
   "outputs": [
    {
     "name": "stdout",
     "output_type": "stream",
     "text": [
      "12\n"
     ]
    }
   ],
   "source": [
    "x = 10\n",
    "print(x + 4 // 2)"
   ]
  },
  {
   "cell_type": "markdown",
   "metadata": {},
   "source": [
    "2. Ask a user for a name, color, and an animal.  <br>\n",
    "Then using string format method per each line, show following:<br>\n",
    "<b><i>name</i></b> had a little <b><i>animal</i></b>. <br>\n",
    "It was <b><i>color</i></b> as snow. <br>\n",
    "And everywhere that <b><i>name</i></b> went, the <b><i>animal</i></b> was sure to go."
   ]
  },
  {
   "cell_type": "code",
   "execution_count": null,
   "metadata": {},
   "outputs": [],
   "source": [
    "# user input\n",
    "name = input(\"Enter a name: \")\n",
    "\n",
    "color = input(\"Enter a color: \")\n",
    "\n",
    "animal = input(\"Enter an animal: \")\n",
    "\n",
    "#  display the text\n",
    "line1 = \"{} had a little {}.\".format(name, animal)\n",
    "\n",
    "line2 = \"It was {} as snow.\".format(color)\n",
    "\n",
    "line3 = \"And everywhere that {} went, the {} was sure to go.\".format(name, animal)\n",
    "\n",
    "print(line1)\n",
    "\n",
    "print(line2\n",
    "     \n",
    "print(line3)"
   ]
  },
  {
   "cell_type": "markdown",
   "metadata": {},
   "source": [
    "9. Ask a user for an amount and a tax rate in percentage. Then, display the amount, rate in percentage, calculated tax amount, and the total (amount + tax amount) in one <b>nice</b> formmated print statement."
   ]
  },
  {
   "cell_type": "code",
   "execution_count": null,
   "metadata": {},
   "outputs": [],
   "source": [
    "#  user input\n",
    "amount = float(input(\"Enter the amount: \"))\n",
    "\n",
    "tax_rate = float(input(\"Enter the tax rate (in percentage): \"))\n",
    "\n",
    "# Calculate tax amount and total\n",
    "taxAmount = (taxRate / 100) * amount\n",
    "total = amount + taxAmount\n",
    "\n",
    "# Display the results\n",
    "print(f\"Amount: ${amount:.2f}\")\n",
    "print(f\"Tax Rate: {taxRate:.2f}%\")\n",
    "print(f\"Tax Amount: ${taxAmount:.2f}\")\n",
    "print(f\"Total: ${total:.2f}\")\n"
   ]
  },
  {
   "cell_type": "markdown",
   "metadata": {},
   "source": [
    "### Write a program for this exercise copied from Module 2:\n",
    "\n",
    "#### 2. How much water runs off a roof in a rain storm?\n",
    "To calculate the runoff from any given rainfall: Take the dimensions of the footprint of the roof and convert them to inches. (So, a 50' x 20' roof is 600\" x 240\"). Multiply the roof dimensions by the number of inches of rainfall. As an example, 600\" x 240\" x 1\" = 144,000 cubic inches of water for an inch of rainfall. Divide that result by 231 to get the number of gallons (because 1 gallon = 231 cubic inches). (144,000/231 = 623.38). Make your program \"fancy\" with clear instructions to the user when they start the program and nicely formatted output."
   ]
  },
  {
   "cell_type": "code",
   "execution_count": null,
   "metadata": {},
   "outputs": [],
   "source": [
    "print(\"Welcome to the Roof Runoff Calculator!\")\n",
    "\n",
    "# user input\n",
    "length = float(input(\"Enter the length of the roof in feet: \"))\n",
    "width = float(input(\"Enter the width of the roof in feet: \"))\n",
    "rainfall = float(input(\"Enter the amount of rainfall in inches: \"))\n",
    "\n",
    "# feet to inches\n",
    "length_in = length * 12\n",
    "width_in = width * 12\n",
    "\n",
    "# calculate the volume of water in cubic inches\n",
    "volume_cubic_inches = length_in * width_in * rainfall_in\n",
    "\n",
    "# inches to gallons\n",
    "gallons = volume_cubic_inches / 231\n",
    "\n",
    "# Display the results\n",
    "print(f\"\\nRoof Dimensions: {length} feet x {width} feet\")\n",
    "print(f\"Rainfall Amount: {rainfall_in} inches\")\n",
    "print(f\"Volume of Water: {volume_cubic_inches:.2f} cubic inches\")\n",
    "print(f\"Equivalent to: {gallons:.2f} gallons of water\")\n"
   ]
  }
 ],
 "metadata": {
  "kernelspec": {
   "display_name": "Python 3 (ipykernel)",
   "language": "python",
   "name": "python3"
  },
  "language_info": {
   "codemirror_mode": {
    "name": "ipython",
    "version": 3
   },
   "file_extension": ".py",
   "mimetype": "text/x-python",
   "name": "python",
   "nbconvert_exporter": "python",
   "pygments_lexer": "ipython3",
   "version": "3.11.7"
  }
 },
 "nbformat": 4,
 "nbformat_minor": 4
}
