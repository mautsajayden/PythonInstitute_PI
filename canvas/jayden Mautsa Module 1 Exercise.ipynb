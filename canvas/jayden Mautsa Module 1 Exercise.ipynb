{
 "cells": [
  {
   "cell_type": "markdown",
   "metadata": {},
   "source": [
    "## Questions"
   ]
  },
  {
   "cell_type": "markdown",
   "metadata": {},
   "source": [
    "1. What are the two major types of programming languages in use today? What type is Python?"
   ]
  },
  {
   "cell_type": "raw",
   "metadata": {},
   "source": [
    "java, c# \n",
    "\n",
    "Python is Object oriented "
   ]
  },
  {
   "cell_type": "markdown",
   "metadata": {},
   "source": [
    "2. Is Python a compiled or interpreted language? Is a Python program delivered to the end user as source code or as machine code?"
   ]
  },
  {
   "cell_type": "raw",
   "metadata": {},
   "source": [
    "Python is an interpreted language. A Python program is typically delivered to the end user as source code  but it can also be distributed as bytecode "
   ]
  },
  {
   "cell_type": "markdown",
   "metadata": {},
   "source": [
    "3. Convert 10011001 to a decimal number"
   ]
  },
  {
   "cell_type": "raw",
   "metadata": {},
   "source": [
    "153"
   ]
  },
  {
   "cell_type": "markdown",
   "metadata": {},
   "source": [
    "4. Convert 11101100 to a decimal number"
   ]
  },
  {
   "cell_type": "raw",
   "metadata": {},
   "source": [
    "476"
   ]
  },
  {
   "cell_type": "markdown",
   "metadata": {},
   "source": [
    "5. Decode this secret message:\n",
    "01001100 01101111 01100111 01101001 01100011"
   ]
  },
  {
   "cell_type": "raw",
   "metadata": {},
   "source": [
    "76 111 103 105 99"
   ]
  },
  {
   "cell_type": "markdown",
   "metadata": {},
   "source": [
    "6. Identify and explain the stages of the Program Life Cycle."
   ]
  },
  {
   "cell_type": "raw",
   "metadata": {},
   "source": [
    "analyze \n",
    "-indentify, divide, Re-group  \n",
    "plan \n",
    "-IPO , algorithm\n",
    "code \n",
    "-programming language \n",
    "test \n",
    "-unit test, system test, integration test  \n",
    "maintenance\n",
    "-bug fix, enhancement, documents "
   ]
  },
  {
   "cell_type": "markdown",
   "metadata": {},
   "source": [
    "7. Create an IPO (input, process, output) for a program to compute total sales amount when sales tax is 5%."
   ]
  },
  {
   "cell_type": "raw",
   "metadata": {},
   "source": [
    "# input \n",
    "amount = enter amount \n",
    "\n",
    "# process\n",
    "total = (amount * 5%) + amount  \n",
    "\n",
    "#output \n",
    "total\n"
   ]
  },
  {
   "cell_type": "markdown",
   "metadata": {},
   "source": [
    "8. Create an IPO for converting liters to US gallons. Multiple the number of liters by 0.264172 to get the number of US gallons."
   ]
  },
  {
   "cell_type": "raw",
   "metadata": {},
   "source": [
    "# input \n",
    "liters = enter liters \n",
    "\n",
    "# process\n",
    "gallons = liters * 264172  \n",
    "\n",
    "#output \n",
    "gallons\n"
   ]
  }
 ],
 "metadata": {
  "kernelspec": {
   "display_name": "Python 3 (ipykernel)",
   "language": "python",
   "name": "python3"
  },
  "language_info": {
   "codemirror_mode": {
    "name": "ipython",
    "version": 3
   },
   "file_extension": ".py",
   "mimetype": "text/x-python",
   "name": "python",
   "nbconvert_exporter": "python",
   "pygments_lexer": "ipython3",
   "version": "3.11.7"
  }
 },
 "nbformat": 4,
 "nbformat_minor": 4
}
