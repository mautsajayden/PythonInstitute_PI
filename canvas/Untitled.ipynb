{
 "cells": [
  {
   "cell_type": "code",
   "execution_count": 8,
   "id": "587bcd52-b66f-4645-aae3-b956b6ac02bd",
   "metadata": {},
   "outputs": [
    {
     "name": "stdin",
     "output_type": "stream",
     "text": [
      "8 digits 67\n"
     ]
    }
   ],
   "source": [
    "num = input(\"8 digits\")\n"
   ]
  },
  {
   "cell_type": "code",
   "execution_count": null,
   "id": "ba3b5421-e20e-4a70-9d77-fa5512e44a76",
   "metadata": {},
   "outputs": [],
   "source": [
    "int num = 0; \n",
    "\n",
    "cout <<\"8 digits\"<<endl;\n",
    "cin >> num; "
   ]
  }
 ],
 "metadata": {
  "kernelspec": {
   "display_name": "Python 3 (ipykernel)",
   "language": "python",
   "name": "python3"
  },
  "language_info": {
   "codemirror_mode": {
    "name": "ipython",
    "version": 3
   },
   "file_extension": ".py",
   "mimetype": "text/x-python",
   "name": "python",
   "nbconvert_exporter": "python",
   "pygments_lexer": "ipython3",
   "version": "3.11.7"
  }
 },
 "nbformat": 4,
 "nbformat_minor": 5
}
