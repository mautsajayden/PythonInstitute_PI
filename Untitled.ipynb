{
 "cells": [
  {
   "cell_type": "code",
   "execution_count": null,
   "id": "66daf500-862c-4e67-8350-e3b5241a2724",
   "metadata": {},
   "outputs": [],
   "source": [
    "name = ['jack', 'john', 'jacob']\n",
    "for i in name:\n",
    "    if len(i) < 5:\n",
    "        print(name.insert(0,i))\n",
    "        "
   ]
  },
  {
   "cell_type": "code",
   "execution_count": null,
   "id": "4db6b347-131d-41c6-ae73-b39020082e76",
   "metadata": {},
   "outputs": [],
   "source": [
    "list = [1,2,3,4,5]\n",
    "a = 5 in list\n",
    "print(a)"
   ]
  },
  {
   "cell_type": "code",
   "execution_count": null,
   "id": "56826932-60bd-4065-b1db-45793eed3c32",
   "metadata": {},
   "outputs": [],
   "source": []
  }
 ],
 "metadata": {
  "kernelspec": {
   "display_name": "Python 3 (ipykernel)",
   "language": "python",
   "name": "python3"
  },
  "language_info": {
   "codemirror_mode": {
    "name": "ipython",
    "version": 3
   },
   "file_extension": ".py",
   "mimetype": "text/x-python",
   "name": "python",
   "nbconvert_exporter": "python",
   "pygments_lexer": "ipython3",
   "version": "3.11.7"
  }
 },
 "nbformat": 4,
 "nbformat_minor": 5
}
